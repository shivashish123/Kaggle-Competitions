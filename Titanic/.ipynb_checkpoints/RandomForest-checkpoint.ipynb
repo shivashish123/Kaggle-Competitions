{
 "cells": [
  {
   "cell_type": "code",
   "execution_count": 26,
   "metadata": {},
   "outputs": [],
   "source": [
    "import pandas as pd\n",
    "import numpy as np\n",
    "from sklearn.preprocessing import LabelEncoder\n",
    "from sklearn.ensemble import RandomForestClassifier\n",
    "\n",
    "le = LabelEncoder()\n",
    "df = pd.read_csv('train.csv')\n",
    "df2 = pd.read_csv('test.csv')\n",
    "X_train = np.zeros((891,7))\n",
    "y_train = np.zeros((891,1))\n",
    "X_test = np.zeros((418,7))\n",
    "y_test = np.zeros((418,1))\n"
   ]
  },
  {
   "cell_type": "code",
   "execution_count": 2,
   "metadata": {},
   "outputs": [],
   "source": [
    "item = ['Pclass','Age','SibSp','Parch','Fare']\n",
    "cntr = 0\n",
    "\n",
    "for i in item:\n",
    "    df[i] = df[i].replace(np.nan, -1, regex=True)\n",
    "    temp = df[i].values\n",
    "    mean_value = np.mean(temp[temp >= 0])\n",
    "    temp[temp == -1] = mean_value\n",
    "    X_train[:,cntr]=temp\n",
    "    cntr = cntr+1\n",
    "\n",
    "temp = df['Sex'].values\n",
    "le.fit(temp)\n",
    "temp = le.transform(temp) \n",
    "X_train[:,5] = temp\n",
    "\n",
    "df['Embarked'] = df['Embarked'].replace(np.nan, '', regex=True)\n",
    "temp = df['Embarked'].values\n",
    "le.fit(temp)\n",
    "temp = le.transform(temp) \n",
    "mean_value = np.mean(temp[temp > 0])\n",
    "temp[temp == 0] = mean_value\n",
    "X_train[:,6] = temp"
   ]
  },
  {
   "cell_type": "code",
   "execution_count": 3,
   "metadata": {},
   "outputs": [],
   "source": [
    "y_train = df['Survived'].values"
   ]
  },
  {
   "cell_type": "code",
   "execution_count": 4,
   "metadata": {},
   "outputs": [],
   "source": [
    "cntr = 0\n",
    "\n",
    "for i in item:\n",
    "    df2[i] = df2[i].replace(np.nan, -1, regex=True)\n",
    "    temp = df2[i].values\n",
    "    mean_value = np.mean(temp[temp >= 0])\n",
    "    temp[temp == -1] = mean_value\n",
    "    X_test[:,cntr]=temp\n",
    "    cntr = cntr+1\n",
    "\n",
    "temp = df2['Sex'].values\n",
    "le.fit(temp)\n",
    "temp = le.transform(temp) \n",
    "X_test[:,5] = temp\n",
    "\n",
    "df2['Embarked'] = df2['Embarked'].replace(np.nan, '', regex=True)\n",
    "temp = df2['Embarked'].values\n",
    "le.fit(temp)\n",
    "temp = le.transform(temp) \n",
    "mean_value = np.mean(temp[temp > 0])\n",
    "temp[temp == 0] = mean_value\n",
    "X_test[:,6] = temp"
   ]
  },
  {
   "cell_type": "code",
   "execution_count": 8,
   "metadata": {},
   "outputs": [
    {
     "name": "stdout",
     "output_type": "stream",
     "text": [
      "[[ 3.         34.5         0.         ...  7.8292      1.\n",
      "   1.        ]\n",
      " [ 3.         47.          1.         ...  7.          0.\n",
      "   2.        ]\n",
      " [ 2.         62.          0.         ...  9.6875      1.\n",
      "   1.        ]\n",
      " ...\n",
      " [ 3.         38.5         0.         ...  7.25        1.\n",
      "   2.        ]\n",
      " [ 3.         30.27259036  0.         ...  8.05        1.\n",
      "   2.        ]\n",
      " [ 3.         30.27259036  1.         ... 22.3583      1.\n",
      "   1.        ]]\n"
     ]
    }
   ],
   "source": [
    "print(X_test)"
   ]
  },
  {
   "cell_type": "code",
   "execution_count": 18,
   "metadata": {},
   "outputs": [
    {
     "name": "stdout",
     "output_type": "stream",
     "text": [
      "0.638755980861244\n"
     ]
    }
   ],
   "source": [
    "clf = RandomForestClassifier(n_estimators=500,criterion = 'entropy')\n",
    "clf.fit(X_train, y_train)\n",
    "accuracy = clf.score(X_test,y_test)\n",
    "print(accuracy)"
   ]
  },
  {
   "cell_type": "code",
   "execution_count": 23,
   "metadata": {},
   "outputs": [],
   "source": [
    "y_test = clf.predict(X_test)\n",
    "tem = df2['PassengerId'].values\n",
    "mycsv = open(\"output-rf.csv\", \"w\")\n",
    "columnTitleRow = \"PassengerId,Survived\\n\"\n",
    "mycsv.write(columnTitleRow)\n",
    "for i in range(418):\n",
    "    row = str(tem[i])  + \",\" + str(y_test[i]) + \"\\n\"\n",
    "    mycsv.write(row)"
   ]
  },
  {
   "cell_type": "code",
   "execution_count": null,
   "metadata": {},
   "outputs": [],
   "source": []
  },
  {
   "cell_type": "code",
   "execution_count": null,
   "metadata": {},
   "outputs": [],
   "source": []
  }
 ],
 "metadata": {
  "kernelspec": {
   "display_name": "Python 3",
   "language": "python",
   "name": "python3"
  },
  "language_info": {
   "codemirror_mode": {
    "name": "ipython",
    "version": 3
   },
   "file_extension": ".py",
   "mimetype": "text/x-python",
   "name": "python",
   "nbconvert_exporter": "python",
   "pygments_lexer": "ipython3",
   "version": "3.7.3"
  }
 },
 "nbformat": 4,
 "nbformat_minor": 2
}
