{
 "cells": [
  {
   "cell_type": "code",
   "execution_count": 28,
   "metadata": {},
   "outputs": [],
   "source": [
    "import numpy as np\n",
    "import pandas as pd\n",
    "from keras import layers\n",
    "from keras.layers import Input, Dense, Activation, ZeroPadding2D, BatchNormalization, Flatten, Convolution2D\n",
    "from keras.layers import AveragePooling2D, MaxPooling2D, Dropout, GlobalMaxPooling2D, GlobalAveragePooling2D\n",
    "from keras.models import Sequential\n",
    "from keras.wrappers.scikit_learn import KerasRegressor\n",
    "from keras.preprocessing import image\n",
    "from keras.utils import layer_utils\n",
    "from keras.utils.data_utils import get_file\n",
    "from keras.applications.imagenet_utils import preprocess_input\n",
    "from matplotlib.pyplot import imshow\n",
    "import os.path"
   ]
  },
  {
   "cell_type": "code",
   "execution_count": 3,
   "metadata": {},
   "outputs": [],
   "source": [
    "df = pd.read_csv('train.csv')\n",
    "df2 = pd.read_csv('test.csv')\n",
    "temp = df['Name'].values\n",
    "Y = df['HeadCount'].values\n",
    "temp2 = df2['Name'].values\n",
    "X_train=[]\n",
    "X_test=[]\n",
    "for i in temp:\n",
    "    img_path = 'image_data/'+str(i)\n",
    "    img = image.load_img(img_path, target_size=(128, 128))\n",
    "    x = image.img_to_array(img)\n",
    "    x = preprocess_input(x)\n",
    "    X_train.append(np.array(x))\n",
    "for i in temp2:\n",
    "    img_path = 'image_data/'+str(i)\n",
    "    img = image.load_img(img_path, target_size=(128, 128))\n",
    "    x = image.img_to_array(img)\n",
    "    x = preprocess_input(x)\n",
    "    X_test.append(np.array(x))"
   ]
  },
  {
   "cell_type": "code",
   "execution_count": 4,
   "metadata": {},
   "outputs": [],
   "source": [
    "X_train = np.array(X_train)\n",
    "X_test = np.array(X_test)\n",
    "Y = np.array(Y)"
   ]
  },
  {
   "cell_type": "code",
   "execution_count": 29,
   "metadata": {},
   "outputs": [],
   "source": [
    "def selfie_rec_model():\n",
    "    model = Sequential()\n",
    "\n",
    "    model.add(Conv2D(5, (4, 4), strides = (1,1), input_shape=(128, 128,3) ))\n",
    "    model.add(BatchNormalization(axis = 3))\n",
    "    model.add(Dropout(0.5))\n",
    "    model.add(Activation('relu'))\n",
    "    model.add(MaxPooling2D((4, 4), strides=(2, 2)))\n",
    "\n",
    "    model.add(Conv2D(5, (4, 4), strides = (1,1)))\n",
    "    model.add(BatchNormalization(axis = 3))\n",
    "    model.add(Dropout(0.5))\n",
    "    model.add(Activation('relu'))\n",
    "\n",
    "    model.add(Conv2D(5, (4, 4), strides = (1,1)))\n",
    "    model.add(BatchNormalization(axis = 3))\n",
    "    model.add(Activation('relu'))\n",
    "    model.add(MaxPooling2D((4, 4), strides=(2, 2)))\n",
    "\n",
    "    model.add(Conv2D(5, (4, 4), strides = (1,1)))\n",
    "    model.add(BatchNormalization(axis = 3))\n",
    "    model.add(Activation('relu'))\n",
    "\n",
    "    model.add(Conv2D(5, (4, 4), strides = (1,1)))\n",
    "    model.add(BatchNormalization(axis = 3))\n",
    "    model.add(Dropout(0.5))\n",
    "    model.add(Activation('relu'))\n",
    "    model.add(MaxPooling2D((4, 4), strides=(2, 2)))\n",
    "\n",
    "    model.add(Flatten())\n",
    "\n",
    "    model.add(Dense(256))\n",
    "    model.add(Activation('relu'))\n",
    "    model.add(Dropout(0.25))\n",
    "    \n",
    "    model.add(Dense(128))\n",
    "    model.add(Activation('relu'))\n",
    "    model.add(Dropout(0.25))\n",
    "\n",
    "    model.add(Dense(64))\n",
    "    model.add(Activation('relu'))\n",
    "    model.add(Dropout(0.25))\n",
    "    \n",
    "    model.add(Dense(1))\n",
    "    model.add(Activation('linear'))\n",
    "    \n",
    "    model.compile(loss='mean_squared_error', optimizer='adam')\n",
    "    model.summary()\n",
    "    \n",
    "    return model\n"
   ]
  },
  {
   "cell_type": "code",
   "execution_count": null,
   "metadata": {},
   "outputs": [
    {
     "name": "stderr",
     "output_type": "stream",
     "text": [
      "/home/shivashish/anaconda3/lib/python3.7/site-packages/ipykernel_launcher.py:20: UserWarning: Update your `Conv2D` call to the Keras 2 API: `Conv2D(5, (5, 5), input_shape=(128, 128,...)`\n",
      "/home/shivashish/anaconda3/lib/python3.7/site-packages/ipykernel_launcher.py:24: UserWarning: Update your `Conv2D` call to the Keras 2 API: `Conv2D(5, (5, 5))`\n",
      "/home/shivashish/anaconda3/lib/python3.7/site-packages/ipykernel_launcher.py:27: UserWarning: Update your `Conv2D` call to the Keras 2 API: `Conv2D(5, (5, 5))`\n",
      "/home/shivashish/anaconda3/lib/python3.7/site-packages/ipykernel_launcher.py:31: UserWarning: Update your `Conv2D` call to the Keras 2 API: `Conv2D(10, (5, 5))`\n",
      "/home/shivashish/anaconda3/lib/python3.7/site-packages/ipykernel_launcher.py:35: UserWarning: Update your `Conv2D` call to the Keras 2 API: `Conv2D(10, (5, 5))`\n",
      "/home/shivashish/anaconda3/lib/python3.7/site-packages/ipykernel_launcher.py:38: UserWarning: Update your `Conv2D` call to the Keras 2 API: `Conv2D(10, (5, 5))`\n"
     ]
    },
    {
     "name": "stdout",
     "output_type": "stream",
     "text": [
      "_________________________________________________________________\n",
      "Layer (type)                 Output Shape              Param #   \n",
      "=================================================================\n",
      "conv2d_32 (Conv2D)           (None, 124, 124, 5)       380       \n",
      "_________________________________________________________________\n",
      "activation_60 (Activation)   (None, 124, 124, 5)       0         \n",
      "_________________________________________________________________\n",
      "conv2d_33 (Conv2D)           (None, 120, 120, 5)       630       \n",
      "_________________________________________________________________\n",
      "activation_61 (Activation)   (None, 120, 120, 5)       0         \n",
      "_________________________________________________________________\n",
      "conv2d_34 (Conv2D)           (None, 116, 116, 5)       630       \n",
      "_________________________________________________________________\n",
      "activation_62 (Activation)   (None, 116, 116, 5)       0         \n",
      "_________________________________________________________________\n",
      "dropout_43 (Dropout)         (None, 116, 116, 5)       0         \n",
      "_________________________________________________________________\n",
      "conv2d_35 (Conv2D)           (None, 112, 112, 10)      1260      \n",
      "_________________________________________________________________\n",
      "activation_63 (Activation)   (None, 112, 112, 10)      0         \n",
      "_________________________________________________________________\n",
      "conv2d_36 (Conv2D)           (None, 108, 108, 10)      2510      \n",
      "_________________________________________________________________\n",
      "activation_64 (Activation)   (None, 108, 108, 10)      0         \n",
      "_________________________________________________________________\n",
      "conv2d_37 (Conv2D)           (None, 104, 104, 10)      2510      \n",
      "_________________________________________________________________\n",
      "activation_65 (Activation)   (None, 104, 104, 10)      0         \n",
      "_________________________________________________________________\n",
      "dropout_44 (Dropout)         (None, 104, 104, 10)      0         \n",
      "_________________________________________________________________\n",
      "flatten_8 (Flatten)          (None, 108160)            0         \n",
      "_________________________________________________________________\n",
      "dense_29 (Dense)             (None, 256)               27689216  \n",
      "_________________________________________________________________\n",
      "activation_66 (Activation)   (None, 256)               0         \n",
      "_________________________________________________________________\n",
      "dropout_45 (Dropout)         (None, 256)               0         \n",
      "_________________________________________________________________\n",
      "dense_30 (Dense)             (None, 128)               32896     \n",
      "_________________________________________________________________\n",
      "activation_67 (Activation)   (None, 128)               0         \n",
      "_________________________________________________________________\n",
      "dropout_46 (Dropout)         (None, 128)               0         \n",
      "_________________________________________________________________\n",
      "dense_31 (Dense)             (None, 64)                8256      \n",
      "_________________________________________________________________\n",
      "activation_68 (Activation)   (None, 64)                0         \n",
      "_________________________________________________________________\n",
      "dropout_47 (Dropout)         (None, 64)                0         \n",
      "_________________________________________________________________\n",
      "dense_32 (Dense)             (None, 1)                 65        \n",
      "_________________________________________________________________\n",
      "activation_69 (Activation)   (None, 1)                 0         \n",
      "=================================================================\n",
      "Total params: 27,738,353\n",
      "Trainable params: 27,738,353\n",
      "Non-trainable params: 0\n",
      "_________________________________________________________________\n",
      "Epoch 1/10\n",
      " 448/5733 [=>............................] - ETA: 11:48 - loss: 1249.2126"
     ]
    }
   ],
   "source": [
    "my_model=KerasRegressor(build_fn=selfie_rec_model, epochs=10, batch_size=32)\n",
    "my_model.fit(X_train, Y)"
   ]
  },
  {
   "cell_type": "code",
   "execution_count": null,
   "metadata": {},
   "outputs": [],
   "source": [
    "prediction=my_model.predict(X_test)"
   ]
  },
  {
   "cell_type": "code",
   "execution_count": null,
   "metadata": {},
   "outputs": [],
   "source": [
    "sub=pd.DataFrame({'Name':df2.Name, 'HeadCount':prediction})\n",
    "sub.to_csv('output.csv',index=False)"
   ]
  },
  {
   "cell_type": "code",
   "execution_count": null,
   "metadata": {},
   "outputs": [],
   "source": []
  }
 ],
 "metadata": {
  "kernelspec": {
   "display_name": "Python 3",
   "language": "python",
   "name": "python3"
  },
  "language_info": {
   "codemirror_mode": {
    "name": "ipython",
    "version": 3
   },
   "file_extension": ".py",
   "mimetype": "text/x-python",
   "name": "python",
   "nbconvert_exporter": "python",
   "pygments_lexer": "ipython3",
   "version": "3.7.3"
  }
 },
 "nbformat": 4,
 "nbformat_minor": 2
}
