{
 "cells": [
  {
   "cell_type": "code",
   "execution_count": 28,
   "metadata": {},
   "outputs": [],
   "source": [
    "import numpy as np\n",
    "import pandas as pd\n",
    "from keras import layers\n",
    "from keras.layers import Input, Dense, Activation, ZeroPadding2D, BatchNormalization, Flatten, Convolution2D\n",
    "from keras.layers import AveragePooling2D, MaxPooling2D, Dropout, GlobalMaxPooling2D, GlobalAveragePooling2D\n",
    "from keras.models import Sequential\n",
    "from keras.wrappers.scikit_learn import KerasRegressor\n",
    "from keras.preprocessing import image\n",
    "from keras.utils import layer_utils\n",
    "from keras.utils.data_utils import get_file\n",
    "from keras.applications.imagenet_utils import preprocess_input\n",
    "from matplotlib.pyplot import imshow\n",
    "import os.path"
   ]
  },
  {
   "cell_type": "code",
   "execution_count": 3,
   "metadata": {},
   "outputs": [],
   "source": [
    "df = pd.read_csv('train.csv')\n",
    "df2 = pd.read_csv('test.csv')\n",
    "temp = df['Name'].values\n",
    "Y = df['HeadCount'].values\n",
    "temp2 = df2['Name'].values\n",
    "X_train=[]\n",
    "X_test=[]\n",
    "for i in temp:\n",
    "    img_path = 'image_data/'+str(i)\n",
    "    img = image.load_img(img_path, target_size=(128, 128))\n",
    "    x = image.img_to_array(img)\n",
    "    x = preprocess_input(x)\n",
    "    X_train.append(np.array(x))\n",
    "for i in temp2:\n",
    "    img_path = 'image_data/'+str(i)\n",
    "    img = image.load_img(img_path, target_size=(128, 128))\n",
    "    x = image.img_to_array(img)\n",
    "    x = preprocess_input(x)\n",
    "    X_test.append(np.array(x))"
   ]
  },
  {
   "cell_type": "code",
   "execution_count": 4,
   "metadata": {},
   "outputs": [],
   "source": [
    "X_train = np.array(X_train)\n",
    "X_test = np.array(X_test)\n",
    "Y = np.array(Y)"
   ]
  },
  {
   "cell_type": "code",
   "execution_count": 29,
   "metadata": {},
   "outputs": [],
   "source": [
    "def selfie_rec_model():\n",
    "    model = Sequential()\n",
    "\n",
    "    model.add(Conv2D(5, (4, 4), strides = (1,1), input_shape=(128, 128,3) ))\n",
    "    model.add(BatchNormalization(axis = 3))\n",
    "    model.add(Dropout(0.5))\n",
    "    model.add(Activation('relu'))\n",
    "    model.add(MaxPooling2D((4, 4), strides=(2, 2)))\n",
    "\n",
    "    model.add(Conv2D(5, (4, 4), strides = (1,1)))\n",
    "    model.add(BatchNormalization(axis = 3))\n",
    "    model.add(Dropout(0.5))\n",
    "    model.add(Activation('relu'))\n",
    "\n",
    "    model.add(Conv2D(5, (4, 4), strides = (1,1)))\n",
    "    model.add(BatchNormalization(axis = 3))\n",
    "    model.add(Activation('relu'))\n",
    "    model.add(MaxPooling2D((4, 4), strides=(2, 2)))\n",
    "\n",
    "    model.add(Conv2D(5, (4, 4), strides = (1,1)))\n",
    "    model.add(BatchNormalization(axis = 3))\n",
    "    model.add(Activation('relu'))\n",
    "\n",
    "    model.add(Conv2D(5, (4, 4), strides = (1,1)))\n",
    "    model.add(BatchNormalization(axis = 3))\n",
    "    model.add(Dropout(0.5))\n",
    "    model.add(Activation('relu'))\n",
    "    model.add(MaxPooling2D((4, 4), strides=(2, 2)))\n",
    "\n",
    "    model.add(Flatten())\n",
    "\n",
    "    model.add(Dense(256))\n",
    "    model.add(Activation('relu'))\n",
    "    model.add(Dropout(0.25))\n",
    "    \n",
    "    model.add(Dense(128))\n",
    "    model.add(Activation('relu'))\n",
    "    model.add(Dropout(0.25))\n",
    "\n",
    "    model.add(Dense(64))\n",
    "    model.add(Activation('relu'))\n",
    "    model.add(Dropout(0.25))\n",
    "    \n",
    "    model.add(Dense(1))\n",
    "    model.add(Activation('linear'))\n",
    "    \n",
    "    model.compile(loss='mean_squared_error', optimizer='adam')\n",
    "    model.summary()\n",
    "    \n",
    "    return model\n"
   ]
  },
  {
   "cell_type": "code",
   "execution_count": null,
   "metadata": {},
   "outputs": [],
   "source": [
    "my_model=KerasRegressor(build_fn=selfie_rec_model, epochs=5, batch_size=32)\n",
    "my_model.fit(X_train, Y)"
   ]
  },
  {
   "cell_type": "code",
   "execution_count": null,
   "metadata": {},
   "outputs": [],
   "source": [
    "prediction=my_model.predict(X_test)"
   ]
  },
  {
   "cell_type": "code",
   "execution_count": null,
   "metadata": {},
   "outputs": [],
   "source": [
    "sub=pd.DataFrame({'Name':df2.Name, 'HeadCount':prediction})\n",
    "sub.to_csv('output.csv',index=False)"
   ]
  },
  {
   "cell_type": "code",
   "execution_count": null,
   "metadata": {},
   "outputs": [],
   "source": []
  }
 ],
 "metadata": {
  "kernelspec": {
   "display_name": "Python 3",
   "language": "python",
   "name": "python3"
  },
  "language_info": {
   "codemirror_mode": {
    "name": "ipython",
    "version": 3
   },
   "file_extension": ".py",
   "mimetype": "text/x-python",
   "name": "python",
   "nbconvert_exporter": "python",
   "pygments_lexer": "ipython3",
   "version": "3.7.3"
  }
 },
 "nbformat": 4,
 "nbformat_minor": 2
}
